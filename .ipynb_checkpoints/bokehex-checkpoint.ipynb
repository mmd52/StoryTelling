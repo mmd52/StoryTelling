{
 "cells": [
  {
   "cell_type": "markdown",
   "metadata": {},
   "source": [
    "# Making Interactive Visualizations with Bokeh\n",
    "\n",
    "[Bokeh](http://bokeh.pydata.org/en/latest/) is an interactive Python library for visualizations that targets modern web browsers for presentation. Its goal is to provide elegant, concise construction of novel graphics in the style of D3.js, and to extend this capability with high-performance interactivity over very large or streaming datasets. Bokeh can help anyone who would like to quickly and easily create interactive plots, dashboards, and data applications.\n",
    "\n",
    " - To get started using Bokeh to make your visualizations, see the [User Guide](http://bokeh.pydata.org/en/latest/docs/user_guide.html#userguide).\n",
    " - To see examples of how you might use Bokeh with your own data, check out the [Gallery](http://bokeh.pydata.org/en/latest/docs/gallery.html#gallery).\n",
    " - A complete API reference of Bokeh is at [Reference Guide](http://bokeh.pydata.org/en/latest/docs/reference.html#refguide).\n",
    "\n",
    "The following notebook is intended to illustrate some of Bokeh's interactive utilities and is based on a [post](https://demo.bokehplots.com/apps/gapminder) by software engineer and Bokeh developer [Sarah Bird](https://twitter.com/birdsarah).\n",
    "\n",
    "\n",
    "## Recreating Gapminder's \"The Health and Wealth of Nations\" \n",
    "\n",
    "Gapminder started as a spin-off from Professor Hans Rosling’s teaching at the Karolinska Institute in Stockholm. Having encountered broad ignorance about the rapid health improvement in Asia, he wanted to measure that lack of awareness among students and professors. He presented the surprising results from his so-called “Chimpanzee Test” in [his first TED-talk](https://www.ted.com/talks/hans_rosling_shows_the_best_stats_you_ve_ever_seen) in 2006.\n",
    "\n",
    "[![The Best Stats You've Never Seen](http://img.youtube.com/vi/hVimVzgtD6w/0.jpg)](http://www.youtube.com/watch?v=hVimVzgtD6w \"The best stats you've ever seen | Hans Rosling\")\n",
    "\n",
    "Rosling's interactive [\"Health and Wealth of Nations\" visualization](http://www.gapminder.org/world) has since become an iconic  illustration of how our assumptions about ‘first world’ and ‘third world’ countries can betray us. Mike Bostock has [recreated the visualization using D3.js](https://bost.ocks.org/mike/nations/), and in this lab, we will see that it is also possible to use Bokeh to recreate the interactive visualization in Python.\n",
    "\n",
    "\n",
    "### About Bokeh Widgets\n",
    "Widgets are interactive controls that can be added to Bokeh applications to provide a front end user interface to a visualization. They can drive new computations, update plots, and connect to other programmatic functionality. When used with the [Bokeh server](http://bokeh.pydata.org/en/latest/docs/user_guide/server.html), widgets can run arbitrary Python code, enabling complex applications. Widgets can also be used without the Bokeh server in standalone HTML documents through the browser’s Javascript runtime.\n",
    "\n",
    "To use widgets, you must add them to your document and define their functionality. Widgets can be added directly to the document root or nested inside a layout. There are two ways to program a widget’s functionality:\n",
    "\n",
    " - Use the CustomJS callback (see [CustomJS for Widgets](http://bokeh.pydata.org/en/0.12.0/docs/user_guide/interaction.html#userguide-interaction-actions-widget-callbacks). This will work in standalone HTML documents.\n",
    " - Use `bokeh serve` to start the Bokeh server and set up event handlers with `.on_change` (or for some widgets, `.on_click`).\n",
    " \n",
    "### Imports"
   ]
  },
  {
   "cell_type": "code",
   "execution_count": 1,
   "metadata": {
    "collapsed": true
   },
   "outputs": [],
   "source": [
    "import numpy as np\n",
    "import pandas as pd\n",
    "\n",
    "from bokeh.layouts import layout\n",
    "from bokeh.layouts import widgetbox\n",
    "\n",
    "from bokeh.embed import file_html\n",
    "\n",
    "from bokeh.io import show\n",
    "from bokeh.io import output_notebook \n",
    "\n",
    "from bokeh.models import Text\n",
    "from bokeh.models import Plot\n",
    "from bokeh.models import Slider\n",
    "from bokeh.models import Circle\n",
    "from bokeh.models import Range1d\n",
    "from bokeh.models import CustomJS\n",
    "from bokeh.models import HoverTool\n",
    "from bokeh.models import LinearAxis\n",
    "from bokeh.models import ColumnDataSource\n",
    "from bokeh.models import SingleIntervalTicker\n",
    "\n",
    "from bokeh.palettes import Spectral6"
   ]
  },
  {
   "cell_type": "markdown",
   "metadata": {},
   "source": [
    "To display Bokeh plots inline in a Jupyter notebook, use the `output_notebook()` function from bokeh.io. When `show()` is called, the plot will be displayed inline in the next notebook output cell. To save your Bokeh plots, you can use the `output_file()` function instead (or in addition)."
   ]
  },
  {
   "cell_type": "code",
   "execution_count": 2,
   "metadata": {},
   "outputs": [
    {
     "data": {
      "text/html": [
       "\n",
       "    <div class=\"bk-root\">\n",
       "        <a href=\"http://bokeh.pydata.org\" target=\"_blank\" class=\"bk-logo bk-logo-small bk-logo-notebook\"></a>\n",
       "        <span id=\"8aecdfac-50aa-4a09-b6d2-8b62b9eb918a\">Loading BokehJS ...</span>\n",
       "    </div>"
      ]
     },
     "metadata": {},
     "output_type": "display_data"
    },
    {
     "data": {
      "application/javascript": [
       "\n",
       "(function(global) {\n",
       "  function now() {\n",
       "    return new Date();\n",
       "  }\n",
       "\n",
       "  var force = true;\n",
       "\n",
       "  if (typeof (window._bokeh_onload_callbacks) === \"undefined\" || force === true) {\n",
       "    window._bokeh_onload_callbacks = [];\n",
       "    window._bokeh_is_loading = undefined;\n",
       "  }\n",
       "\n",
       "\n",
       "  \n",
       "  if (typeof (window._bokeh_timeout) === \"undefined\" || force === true) {\n",
       "    window._bokeh_timeout = Date.now() + 5000;\n",
       "    window._bokeh_failed_load = false;\n",
       "  }\n",
       "\n",
       "  var NB_LOAD_WARNING = {'data': {'text/html':\n",
       "     \"<div style='background-color: #fdd'>\\n\"+\n",
       "     \"<p>\\n\"+\n",
       "     \"BokehJS does not appear to have successfully loaded. If loading BokehJS from CDN, this \\n\"+\n",
       "     \"may be due to a slow or bad network connection. Possible fixes:\\n\"+\n",
       "     \"</p>\\n\"+\n",
       "     \"<ul>\\n\"+\n",
       "     \"<li>re-rerun `output_notebook()` to attempt to load from CDN again, or</li>\\n\"+\n",
       "     \"<li>use INLINE resources instead, as so:</li>\\n\"+\n",
       "     \"</ul>\\n\"+\n",
       "     \"<code>\\n\"+\n",
       "     \"from bokeh.resources import INLINE\\n\"+\n",
       "     \"output_notebook(resources=INLINE)\\n\"+\n",
       "     \"</code>\\n\"+\n",
       "     \"</div>\"}};\n",
       "\n",
       "  function display_loaded() {\n",
       "    if (window.Bokeh !== undefined) {\n",
       "      var el = document.getElementById(\"8aecdfac-50aa-4a09-b6d2-8b62b9eb918a\");\n",
       "      el.textContent = \"BokehJS \" + Bokeh.version + \" successfully loaded.\";\n",
       "    } else if (Date.now() < window._bokeh_timeout) {\n",
       "      setTimeout(display_loaded, 100)\n",
       "    }\n",
       "  }\n",
       "\n",
       "  function run_callbacks() {\n",
       "    window._bokeh_onload_callbacks.forEach(function(callback) { callback() });\n",
       "    delete window._bokeh_onload_callbacks\n",
       "    console.info(\"Bokeh: all callbacks have finished\");\n",
       "  }\n",
       "\n",
       "  function load_libs(js_urls, callback) {\n",
       "    window._bokeh_onload_callbacks.push(callback);\n",
       "    if (window._bokeh_is_loading > 0) {\n",
       "      console.log(\"Bokeh: BokehJS is being loaded, scheduling callback at\", now());\n",
       "      return null;\n",
       "    }\n",
       "    if (js_urls == null || js_urls.length === 0) {\n",
       "      run_callbacks();\n",
       "      return null;\n",
       "    }\n",
       "    console.log(\"Bokeh: BokehJS not loaded, scheduling load and callback at\", now());\n",
       "    window._bokeh_is_loading = js_urls.length;\n",
       "    for (var i = 0; i < js_urls.length; i++) {\n",
       "      var url = js_urls[i];\n",
       "      var s = document.createElement('script');\n",
       "      s.src = url;\n",
       "      s.async = false;\n",
       "      s.onreadystatechange = s.onload = function() {\n",
       "        window._bokeh_is_loading--;\n",
       "        if (window._bokeh_is_loading === 0) {\n",
       "          console.log(\"Bokeh: all BokehJS libraries loaded\");\n",
       "          run_callbacks()\n",
       "        }\n",
       "      };\n",
       "      s.onerror = function() {\n",
       "        console.warn(\"failed to load library \" + url);\n",
       "      };\n",
       "      console.log(\"Bokeh: injecting script tag for BokehJS library: \", url);\n",
       "      document.getElementsByTagName(\"head\")[0].appendChild(s);\n",
       "    }\n",
       "  };var element = document.getElementById(\"8aecdfac-50aa-4a09-b6d2-8b62b9eb918a\");\n",
       "  if (element == null) {\n",
       "    console.log(\"Bokeh: ERROR: autoload.js configured with elementid '8aecdfac-50aa-4a09-b6d2-8b62b9eb918a' but no matching script tag was found. \")\n",
       "    return false;\n",
       "  }\n",
       "\n",
       "  var js_urls = [\"https://cdn.pydata.org/bokeh/release/bokeh-0.12.5.min.js\", \"https://cdn.pydata.org/bokeh/release/bokeh-widgets-0.12.5.min.js\"];\n",
       "\n",
       "  var inline_js = [\n",
       "    function(Bokeh) {\n",
       "      Bokeh.set_log_level(\"info\");\n",
       "    },\n",
       "    \n",
       "    function(Bokeh) {\n",
       "      \n",
       "    },\n",
       "    \n",
       "    function(Bokeh) {\n",
       "      \n",
       "      document.getElementById(\"8aecdfac-50aa-4a09-b6d2-8b62b9eb918a\").textContent = \"BokehJS is loading...\";\n",
       "    },\n",
       "    function(Bokeh) {\n",
       "      console.log(\"Bokeh: injecting CSS: https://cdn.pydata.org/bokeh/release/bokeh-0.12.5.min.css\");\n",
       "      Bokeh.embed.inject_css(\"https://cdn.pydata.org/bokeh/release/bokeh-0.12.5.min.css\");\n",
       "      console.log(\"Bokeh: injecting CSS: https://cdn.pydata.org/bokeh/release/bokeh-widgets-0.12.5.min.css\");\n",
       "      Bokeh.embed.inject_css(\"https://cdn.pydata.org/bokeh/release/bokeh-widgets-0.12.5.min.css\");\n",
       "    }\n",
       "  ];\n",
       "\n",
       "  function run_inline_js() {\n",
       "    \n",
       "    if ((window.Bokeh !== undefined) || (force === true)) {\n",
       "      for (var i = 0; i < inline_js.length; i++) {\n",
       "        inline_js[i](window.Bokeh);\n",
       "      }if (force === true) {\n",
       "        display_loaded();\n",
       "      }} else if (Date.now() < window._bokeh_timeout) {\n",
       "      setTimeout(run_inline_js, 100);\n",
       "    } else if (!window._bokeh_failed_load) {\n",
       "      console.log(\"Bokeh: BokehJS failed to load within specified timeout.\");\n",
       "      window._bokeh_failed_load = true;\n",
       "    } else if (force !== true) {\n",
       "      var cell = $(document.getElementById(\"8aecdfac-50aa-4a09-b6d2-8b62b9eb918a\")).parents('.cell').data().cell;\n",
       "      cell.output_area.append_execute_result(NB_LOAD_WARNING)\n",
       "    }\n",
       "\n",
       "  }\n",
       "\n",
       "  if (window._bokeh_is_loading === 0) {\n",
       "    console.log(\"Bokeh: BokehJS loaded, going straight to plotting\");\n",
       "    run_inline_js();\n",
       "  } else {\n",
       "    load_libs(js_urls, function() {\n",
       "      console.log(\"Bokeh: BokehJS plotting callback run at\", now());\n",
       "      run_inline_js();\n",
       "    });\n",
       "  }\n",
       "}(this));"
      ]
     },
     "metadata": {},
     "output_type": "display_data"
    }
   ],
   "source": [
    "output_notebook()"
   ]
  },
  {
   "cell_type": "markdown",
   "metadata": {},
   "source": [
    "### Get the data\n",
    "\n",
    "Some of Bokeh examples rely on sample data that is not included in the Bokeh GitHub repository or released packages, due to their size. Once Bokeh is installed, the sample data can be obtained by executing the command in the next cell. The location that the sample data is stored can be configured. By default, data is downloaded and stored to a directory $HOME/.bokeh/data. (The directory is created if it does not already exist.) "
   ]
  },
  {
   "cell_type": "code",
   "execution_count": 3,
   "metadata": {},
   "outputs": [
    {
     "name": "stdout",
     "output_type": "stream",
     "text": [
      "Using data directory: C:\\Users\\moham\\.bokeh\\data\n",
      "Downloading: CGM.csv (1589982 bytes)\n",
      "   1589982 [100.00%]\n",
      "Downloading: US_Counties.zip (3182088 bytes)\n",
      "   3182088 [100.00%]\n",
      "Unpacking: US_Counties.csv\n",
      "Downloading: us_cities.json (713565 bytes)\n",
      "    713565 [100.00%]\n",
      "Downloading: unemployment09.csv (253301 bytes)\n",
      "    253301 [100.00%]\n",
      "Downloading: AAPL.csv (166698 bytes)\n",
      "    166698 [100.00%]\n",
      "Downloading: FB.csv (9706 bytes)\n",
      "      9706 [100.00%]\n",
      "Downloading: GOOG.csv (113894 bytes)\n",
      "    113894 [100.00%]\n",
      "Downloading: IBM.csv (165625 bytes)\n",
      "    165625 [100.00%]\n",
      "Downloading: MSFT.csv (161614 bytes)\n",
      "    161614 [100.00%]\n",
      "Downloading: WPP2012_SA_DB03_POPULATION_QUINQUENNIAL.zip (5148539 bytes)\n",
      "   5148539 [100.00%]\n",
      "Unpacking: WPP2012_SA_DB03_POPULATION_QUINQUENNIAL.csv\n",
      "Downloading: gapminder_fertility.csv (64346 bytes)\n",
      "     64346 [100.00%]\n",
      "Downloading: gapminder_population.csv (94509 bytes)\n",
      "     94509 [100.00%]\n",
      "Downloading: gapminder_life_expectancy.csv (73243 bytes)\n",
      "     73243 [100.00%]\n",
      "Downloading: gapminder_regions.csv (7781 bytes)\n",
      "      7781 [100.00%]\n",
      "Downloading: world_cities.zip (646858 bytes)\n",
      "    646858 [100.00%]\n",
      "Unpacking: world_cities.csv\n",
      "Downloading: airports.json (6373 bytes)\n",
      "      6373 [100.00%]\n",
      "Downloading: movies.db.zip (5067833 bytes)\n",
      "   5067833 [100.00%]\n",
      "Unpacking: movies.db\n"
     ]
    }
   ],
   "source": [
    "import bokeh.sampledata\n",
    "bokeh.sampledata.download()"
   ]
  },
  {
   "cell_type": "markdown",
   "metadata": {},
   "source": [
    "### Prepare the data    \n",
    " \n",
    "In order to create an interactive plot in Bokeh, we need to animate snapshots of the data over time from 1964 to 2013. In order to do this, we can think of each year as a separate static plot. We can then use a JavaScript `Callback` to change the data source that is driving the plot.    \n",
    "\n",
    "#### JavaScript Callbacks\n",
    "\n",
    "Bokeh exposes various [callbacks](http://bokeh.pydata.org/en/latest/docs/user_guide/interaction/callbacks.html#userguide-interaction-callbacks), which can be specified from Python, that trigger actions inside the browser’s JavaScript runtime. This kind of JavaScript callback can be used to add interesting interactions to Bokeh documents without the need to use a Bokeh server (but can also be used in conjuction with a Bokeh server). Custom callbacks can be set using a [`CustomJS` object](http://bokeh.pydata.org/en/latest/docs/user_guide/interaction/callbacks.html#customjs-for-widgets) and passing it as the callback argument to a `Widget` object.\n",
    "\n",
    "As the data we will be using today is not too big, we can pass all the datasets to the JavaScript at once and switch between them on the client side using a slider widget.    \n",
    "\n",
    "This means that we need to put all of the datasets together build a single data source for each year. First we will load each of the datasets with the `process_data()` function and do a bit of clean up:"
   ]
  },
  {
   "cell_type": "code",
   "execution_count": 4,
   "metadata": {
    "collapsed": true
   },
   "outputs": [],
   "source": [
    "def process_data():\n",
    "    from bokeh.sampledata.gapminder import fertility, life_expectancy, population, regions\n",
    "    # Make the column names ints not strings for handling\n",
    "    columns = list(fertility.columns)\n",
    "    years = list(range(int(columns[0]), int(columns[-1])))\n",
    "    rename_dict = dict(zip(columns, years))\n",
    "\n",
    "    fertility = fertility.rename(columns=rename_dict)\n",
    "    life_expectancy = life_expectancy.rename(columns=rename_dict)\n",
    "    population = population.rename(columns=rename_dict)\n",
    "    regions = regions.rename(columns=rename_dict)\n",
    "\n",
    "    # Turn population into bubble sizes. Use min_size and factor to tweak.\n",
    "    scale_factor = 200\n",
    "    population_size = np.sqrt(population / np.pi) / scale_factor\n",
    "    min_size = 3\n",
    "    population_size = population_size.where(population_size >= min_size).fillna(min_size)\n",
    "\n",
    "    # Use pandas categories and categorize & color the regions\n",
    "    regions.Group = regions.Group.astype('category')\n",
    "    regions_list = list(regions.Group.cat.categories)\n",
    "\n",
    "    def get_color(r):\n",
    "        return Spectral6[regions_list.index(r.Group)]\n",
    "    regions['region_color'] = regions.apply(get_color, axis=1)\n",
    "\n",
    "    return fertility, life_expectancy, population_size, regions, years, regions_list"
   ]
  },
  {
   "cell_type": "markdown",
   "metadata": {},
   "source": [
    "Next we will add each of our sources to the `sources` dictionary, where each key is the name of the year (prefaced with an underscore) and each value is a dataframe with the aggregated values for that year.\n",
    "\n",
    "_Note that we needed the prefixing as JavaScript objects cannot begin with a number._"
   ]
  },
  {
   "cell_type": "code",
   "execution_count": 5,
   "metadata": {
    "collapsed": true
   },
   "outputs": [],
   "source": [
    "fertility_df, life_expectancy_df, population_df_size, regions_df, years, regions = process_data()\n",
    "\n",
    "sources = {}\n",
    "\n",
    "region_color = regions_df['region_color']\n",
    "region_color.name = 'region_color'\n",
    "\n",
    "for year in years:\n",
    "    fertility = fertility_df[year]\n",
    "    fertility.name = 'fertility'\n",
    "    life = life_expectancy_df[year]\n",
    "    life.name = 'life' \n",
    "    population = population_df_size[year]\n",
    "    population.name = 'population' \n",
    "    new_df = pd.concat([fertility, life, population, region_color], axis=1)\n",
    "    sources['_' + str(year)] = ColumnDataSource(new_df)"
   ]
  },
  {
   "cell_type": "markdown",
   "metadata": {},
   "source": [
    "You can see what's in the `sources` dictionary by running the cell below.\n",
    "\n",
    "Later we will be able to pass this `sources` dictionary to the JavaScript Callback. In so doing, we will find that in our JavaScript we have objects named by year that refer to a corresponding `ColumnDataSource`."
   ]
  },
  {
   "cell_type": "code",
   "execution_count": 6,
   "metadata": {
    "collapsed": true
   },
   "outputs": [
    {
     "data": {
      "text/plain": [
       "{'_1964': ColumnDataSource(id='8f0cc7ca-42d9-4c65-be53-85a4a48b4b03', ...),\n",
       " '_1965': ColumnDataSource(id='ae5c4ee8-eaf6-49aa-92c8-7714c15c992d', ...),\n",
       " '_1966': ColumnDataSource(id='ec6ebae5-982e-4b67-94ed-3b122e596b49', ...),\n",
       " '_1967': ColumnDataSource(id='923d87ee-a7ef-43ad-8ad7-3862101b3f21', ...),\n",
       " '_1968': ColumnDataSource(id='2bc21e74-81a4-4617-8717-66c08d52f8a9', ...),\n",
       " '_1969': ColumnDataSource(id='2e4520ed-8162-4d5f-b926-1d731fe5105f', ...),\n",
       " '_1970': ColumnDataSource(id='35a95434-1214-4f18-a3c2-7daec58b7334', ...),\n",
       " '_1971': ColumnDataSource(id='b8ed82e5-d19c-4d72-9046-6fa94ab32415', ...),\n",
       " '_1972': ColumnDataSource(id='19961a85-4c6c-44a5-ba63-fe1914b3071b', ...),\n",
       " '_1973': ColumnDataSource(id='b210e1a3-84ad-48ff-9b35-f8b692cbed60', ...),\n",
       " '_1974': ColumnDataSource(id='a61134fb-ce21-4cc0-a537-16c6939e2bdf', ...),\n",
       " '_1975': ColumnDataSource(id='47b39760-695c-409e-ac90-3105ad476738', ...),\n",
       " '_1976': ColumnDataSource(id='4c24479e-d99c-426e-85de-1fe2b73ba206', ...),\n",
       " '_1977': ColumnDataSource(id='f843f8b9-386f-4431-a93d-43eacadf14aa', ...),\n",
       " '_1978': ColumnDataSource(id='0ba988c3-611c-4735-96b0-58dbe8f7096a', ...),\n",
       " '_1979': ColumnDataSource(id='7fe206e6-821e-4053-a4d0-31733f2d2ba8', ...),\n",
       " '_1980': ColumnDataSource(id='a3b1cffd-e3ce-46f3-bcab-27b0d37d880a', ...),\n",
       " '_1981': ColumnDataSource(id='dffe9364-2e42-4be9-94f3-6d86ec894893', ...),\n",
       " '_1982': ColumnDataSource(id='613f1c93-e2ed-44bc-b8ba-7a6a1dfaa6bf', ...),\n",
       " '_1983': ColumnDataSource(id='b602fc9c-b090-4d1f-8fd8-cd1635f44b85', ...),\n",
       " '_1984': ColumnDataSource(id='2a267bdf-88bb-4d58-b9f7-e8e89b8381d3', ...),\n",
       " '_1985': ColumnDataSource(id='6561297a-cbb0-4f0f-8e46-299a62e61071', ...),\n",
       " '_1986': ColumnDataSource(id='d79a19f4-a651-4465-94dc-0612079067bb', ...),\n",
       " '_1987': ColumnDataSource(id='030d9dfd-3f66-4a05-9613-b9994d912cb9', ...),\n",
       " '_1988': ColumnDataSource(id='70709441-6c01-4f97-bd21-5985cd197037', ...),\n",
       " '_1989': ColumnDataSource(id='61270676-f483-4090-961f-ab5b4d7812b8', ...),\n",
       " '_1990': ColumnDataSource(id='78e70b03-fbcd-4b56-9020-f0ff6dd92833', ...),\n",
       " '_1991': ColumnDataSource(id='49998706-13bf-4083-9b06-75af167cb0d8', ...),\n",
       " '_1992': ColumnDataSource(id='860fa205-21b9-466e-a186-8cfd589bb18f', ...),\n",
       " '_1993': ColumnDataSource(id='6f16f358-3456-41e9-878a-e4dba5b00f14', ...),\n",
       " '_1994': ColumnDataSource(id='9feee6da-dd81-449f-b2ab-2c5547511d8e', ...),\n",
       " '_1995': ColumnDataSource(id='df09be92-2db8-458f-bc6f-cdebf7773ff4', ...),\n",
       " '_1996': ColumnDataSource(id='c2243c92-54e2-4012-9e68-f603304f8936', ...),\n",
       " '_1997': ColumnDataSource(id='2e1b86c8-e3ca-4ed3-95a5-5867a2b1c227', ...),\n",
       " '_1998': ColumnDataSource(id='8fd1c3ca-2d31-433f-a914-20d35d0a9b67', ...),\n",
       " '_1999': ColumnDataSource(id='83c01b6c-8a9c-4a74-8d98-7db0c9013e0b', ...),\n",
       " '_2000': ColumnDataSource(id='5f90ce17-40aa-4b05-bf12-958fb7dca6cc', ...),\n",
       " '_2001': ColumnDataSource(id='50a58a37-8b52-47a0-b968-2a729f399286', ...),\n",
       " '_2002': ColumnDataSource(id='5b7422d5-f967-4215-aacb-6fad4dd0e061', ...),\n",
       " '_2003': ColumnDataSource(id='004405aa-9055-4958-afbd-ac22a960ec29', ...),\n",
       " '_2004': ColumnDataSource(id='2c302c14-f869-4bf3-a3fb-8f9f695c38a4', ...),\n",
       " '_2005': ColumnDataSource(id='8d32dd68-c514-4b3e-990f-f19270244945', ...),\n",
       " '_2006': ColumnDataSource(id='db72863b-13ee-4044-ad8e-1e8027847fcd', ...),\n",
       " '_2007': ColumnDataSource(id='a8fb612e-550b-4242-aea7-4c2db3ecbd32', ...),\n",
       " '_2008': ColumnDataSource(id='5d737592-1509-4f4b-ba99-4bc7f297fed6', ...),\n",
       " '_2009': ColumnDataSource(id='c18c8c52-4803-4096-8abc-f7a046563162', ...),\n",
       " '_2010': ColumnDataSource(id='5e5be3c2-3057-41b1-a8dc-7164e211ce17', ...),\n",
       " '_2011': ColumnDataSource(id='c4c73bb3-16cd-495d-9e9a-977ca4d3b1f5', ...),\n",
       " '_2012': ColumnDataSource(id='d972d207-0643-4287-87aa-1b2f25c3bc4f', ...)}"
      ]
     },
     "execution_count": 6,
     "metadata": {},
     "output_type": "execute_result"
    }
   ],
   "source": [
    "sources"
   ]
  },
  {
   "cell_type": "markdown",
   "metadata": {},
   "source": [
    "We can also create a corresponding `dictionary_of_sources` object, where the keys are integers and the values are the references to our ColumnDataSources from above: "
   ]
  },
  {
   "cell_type": "code",
   "execution_count": 7,
   "metadata": {
    "collapsed": true
   },
   "outputs": [],
   "source": [
    "dictionary_of_sources = dict(zip([x for x in years], ['_%s' % x for x in years]))"
   ]
  },
  {
   "cell_type": "code",
   "execution_count": 8,
   "metadata": {},
   "outputs": [
    {
     "data": {
      "text/plain": [
       "'{1964: _1964, 1965: _1965, 1966: _1966, 1967: _1967, 1968: _1968, 1969: _1969, 1970: _1970, 1971: _1971, 1972: _1972, 1973: _1973, 1974: _1974, 1975: _1975, 1976: _1976, 1977: _1977, 1978: _1978, 1979: _1979, 1980: _1980, 1981: _1981, 1982: _1982, 1983: _1983, 1984: _1984, 1985: _1985, 1986: _1986, 1987: _1987, 1988: _1988, 1989: _1989, 1990: _1990, 1991: _1991, 1992: _1992, 1993: _1993, 1994: _1994, 1995: _1995, 1996: _1996, 1997: _1997, 1998: _1998, 1999: _1999, 2000: _2000, 2001: _2001, 2002: _2002, 2003: _2003, 2004: _2004, 2005: _2005, 2006: _2006, 2007: _2007, 2008: _2008, 2009: _2009, 2010: _2010, 2011: _2011, 2012: _2012}'"
      ]
     },
     "execution_count": 8,
     "metadata": {},
     "output_type": "execute_result"
    }
   ],
   "source": [
    "js_source_array = str(dictionary_of_sources).replace(\"'\", \"\")\n",
    "js_source_array"
   ]
  },
  {
   "cell_type": "markdown",
   "metadata": {},
   "source": [
    "Now we have an object that's storing all of our `ColumnDataSources`, so that we can look them up.\n",
    "\n",
    "### Build the plot\n",
    "\n",
    "First we need to create a `Plot` object. We'll start with a basic frame, only specifying things like plot height, width, and ranges for the axes."
   ]
  },
  {
   "cell_type": "code",
   "execution_count": 9,
   "metadata": {
    "collapsed": true
   },
   "outputs": [],
   "source": [
    "xdr = Range1d(1, 9)\n",
    "ydr = Range1d(20, 100)\n",
    "plot = Plot(\n",
    "    x_range=xdr,\n",
    "    y_range=ydr,\n",
    "    plot_width=800,\n",
    "    plot_height=400,\n",
    "    outline_line_color=None,\n",
    "    toolbar_location=None, \n",
    "    min_border=20,\n",
    ")"
   ]
  },
  {
   "cell_type": "markdown",
   "metadata": {},
   "source": [
    "What do you expect to see when we call `show()` on the plot that we have created so far? Try it out below:"
   ]
  },
  {
   "cell_type": "code",
   "execution_count": 10,
   "metadata": {},
   "outputs": [
    {
     "data": {
      "text/html": [
       "\n",
       "\n",
       "    <div class=\"bk-root\">\n",
       "        <div class=\"bk-plotdiv\" id=\"162b6116-143e-44e5-a8b4-9a1c8f56dad1\"></div>\n",
       "    </div>\n",
       "<script type=\"text/javascript\">\n",
       "  \n",
       "  (function(global) {\n",
       "    function now() {\n",
       "      return new Date();\n",
       "    }\n",
       "  \n",
       "    var force = false;\n",
       "  \n",
       "    if (typeof (window._bokeh_onload_callbacks) === \"undefined\" || force === true) {\n",
       "      window._bokeh_onload_callbacks = [];\n",
       "      window._bokeh_is_loading = undefined;\n",
       "    }\n",
       "  \n",
       "  \n",
       "    \n",
       "    if (typeof (window._bokeh_timeout) === \"undefined\" || force === true) {\n",
       "      window._bokeh_timeout = Date.now() + 0;\n",
       "      window._bokeh_failed_load = false;\n",
       "    }\n",
       "  \n",
       "    var NB_LOAD_WARNING = {'data': {'text/html':\n",
       "       \"<div style='background-color: #fdd'>\\n\"+\n",
       "       \"<p>\\n\"+\n",
       "       \"BokehJS does not appear to have successfully loaded. If loading BokehJS from CDN, this \\n\"+\n",
       "       \"may be due to a slow or bad network connection. Possible fixes:\\n\"+\n",
       "       \"</p>\\n\"+\n",
       "       \"<ul>\\n\"+\n",
       "       \"<li>re-rerun `output_notebook()` to attempt to load from CDN again, or</li>\\n\"+\n",
       "       \"<li>use INLINE resources instead, as so:</li>\\n\"+\n",
       "       \"</ul>\\n\"+\n",
       "       \"<code>\\n\"+\n",
       "       \"from bokeh.resources import INLINE\\n\"+\n",
       "       \"output_notebook(resources=INLINE)\\n\"+\n",
       "       \"</code>\\n\"+\n",
       "       \"</div>\"}};\n",
       "  \n",
       "    function display_loaded() {\n",
       "      if (window.Bokeh !== undefined) {\n",
       "        var el = document.getElementById(\"162b6116-143e-44e5-a8b4-9a1c8f56dad1\");\n",
       "        el.textContent = \"BokehJS \" + Bokeh.version + \" successfully loaded.\";\n",
       "      } else if (Date.now() < window._bokeh_timeout) {\n",
       "        setTimeout(display_loaded, 100)\n",
       "      }\n",
       "    }\n",
       "  \n",
       "    function run_callbacks() {\n",
       "      window._bokeh_onload_callbacks.forEach(function(callback) { callback() });\n",
       "      delete window._bokeh_onload_callbacks\n",
       "      console.info(\"Bokeh: all callbacks have finished\");\n",
       "    }\n",
       "  \n",
       "    function load_libs(js_urls, callback) {\n",
       "      window._bokeh_onload_callbacks.push(callback);\n",
       "      if (window._bokeh_is_loading > 0) {\n",
       "        console.log(\"Bokeh: BokehJS is being loaded, scheduling callback at\", now());\n",
       "        return null;\n",
       "      }\n",
       "      if (js_urls == null || js_urls.length === 0) {\n",
       "        run_callbacks();\n",
       "        return null;\n",
       "      }\n",
       "      console.log(\"Bokeh: BokehJS not loaded, scheduling load and callback at\", now());\n",
       "      window._bokeh_is_loading = js_urls.length;\n",
       "      for (var i = 0; i < js_urls.length; i++) {\n",
       "        var url = js_urls[i];\n",
       "        var s = document.createElement('script');\n",
       "        s.src = url;\n",
       "        s.async = false;\n",
       "        s.onreadystatechange = s.onload = function() {\n",
       "          window._bokeh_is_loading--;\n",
       "          if (window._bokeh_is_loading === 0) {\n",
       "            console.log(\"Bokeh: all BokehJS libraries loaded\");\n",
       "            run_callbacks()\n",
       "          }\n",
       "        };\n",
       "        s.onerror = function() {\n",
       "          console.warn(\"failed to load library \" + url);\n",
       "        };\n",
       "        console.log(\"Bokeh: injecting script tag for BokehJS library: \", url);\n",
       "        document.getElementsByTagName(\"head\")[0].appendChild(s);\n",
       "      }\n",
       "    };var element = document.getElementById(\"162b6116-143e-44e5-a8b4-9a1c8f56dad1\");\n",
       "    if (element == null) {\n",
       "      console.log(\"Bokeh: ERROR: autoload.js configured with elementid '162b6116-143e-44e5-a8b4-9a1c8f56dad1' but no matching script tag was found. \")\n",
       "      return false;\n",
       "    }\n",
       "  \n",
       "    var js_urls = [];\n",
       "  \n",
       "    var inline_js = [\n",
       "      function(Bokeh) {\n",
       "        (function() {\n",
       "          var fn = function() {\n",
       "            var docs_json = {\"9fc08746-216c-48a4-adfb-70409aca0de5\":{\"roots\":{\"references\":[{\"attributes\":{},\"id\":\"c6d4d810-3890-4b67-971c-f938b30e4414\",\"type\":\"ToolEvents\"},{\"attributes\":{\"active_drag\":\"auto\",\"active_scroll\":\"auto\",\"active_tap\":\"auto\"},\"id\":\"9d8f912b-dfde-43a3-9f55-748d1226a0cb\",\"type\":\"Toolbar\"},{\"attributes\":{\"plot\":null,\"text\":\"\"},\"id\":\"ae6758d5-7978-4991-ac0a-2f54428c38e0\",\"type\":\"Title\"},{\"attributes\":{\"callback\":null,\"end\":100,\"start\":20},\"id\":\"290d167c-572b-4c38-9bb1-e6861320858c\",\"type\":\"Range1d\"},{\"attributes\":{\"callback\":null,\"end\":9,\"start\":1},\"id\":\"d992c887-ae8f-4330-ac74-7ca35f7f0a23\",\"type\":\"Range1d\"},{\"attributes\":{\"min_border\":20,\"outline_line_color\":{\"value\":null},\"plot_height\":400,\"plot_width\":800,\"title\":{\"id\":\"ae6758d5-7978-4991-ac0a-2f54428c38e0\",\"type\":\"Title\"},\"tool_events\":{\"id\":\"c6d4d810-3890-4b67-971c-f938b30e4414\",\"type\":\"ToolEvents\"},\"toolbar\":{\"id\":\"9d8f912b-dfde-43a3-9f55-748d1226a0cb\",\"type\":\"Toolbar\"},\"toolbar_location\":null,\"x_range\":{\"id\":\"d992c887-ae8f-4330-ac74-7ca35f7f0a23\",\"type\":\"Range1d\"},\"y_range\":{\"id\":\"290d167c-572b-4c38-9bb1-e6861320858c\",\"type\":\"Range1d\"}},\"id\":\"aa5eec61-c6e1-45a0-b8ca-dbe28d81e146\",\"type\":\"Plot\"}],\"root_ids\":[\"aa5eec61-c6e1-45a0-b8ca-dbe28d81e146\"]},\"title\":\"Bokeh Application\",\"version\":\"0.12.5\"}};\n",
       "            var render_items = [{\"docid\":\"9fc08746-216c-48a4-adfb-70409aca0de5\",\"elementid\":\"162b6116-143e-44e5-a8b4-9a1c8f56dad1\",\"modelid\":\"aa5eec61-c6e1-45a0-b8ca-dbe28d81e146\"}];\n",
       "            \n",
       "            Bokeh.embed.embed_items(docs_json, render_items);\n",
       "          };\n",
       "          if (document.readyState != \"loading\") fn();\n",
       "          else document.addEventListener(\"DOMContentLoaded\", fn);\n",
       "        })();\n",
       "      },\n",
       "      function(Bokeh) {\n",
       "      }\n",
       "    ];\n",
       "  \n",
       "    function run_inline_js() {\n",
       "      \n",
       "      if ((window.Bokeh !== undefined) || (force === true)) {\n",
       "        for (var i = 0; i < inline_js.length; i++) {\n",
       "          inline_js[i](window.Bokeh);\n",
       "        }if (force === true) {\n",
       "          display_loaded();\n",
       "        }} else if (Date.now() < window._bokeh_timeout) {\n",
       "        setTimeout(run_inline_js, 100);\n",
       "      } else if (!window._bokeh_failed_load) {\n",
       "        console.log(\"Bokeh: BokehJS failed to load within specified timeout.\");\n",
       "        window._bokeh_failed_load = true;\n",
       "      } else if (force !== true) {\n",
       "        var cell = $(document.getElementById(\"162b6116-143e-44e5-a8b4-9a1c8f56dad1\")).parents('.cell').data().cell;\n",
       "        cell.output_area.append_execute_result(NB_LOAD_WARNING)\n",
       "      }\n",
       "  \n",
       "    }\n",
       "  \n",
       "    if (window._bokeh_is_loading === 0) {\n",
       "      console.log(\"Bokeh: BokehJS loaded, going straight to plotting\");\n",
       "      run_inline_js();\n",
       "    } else {\n",
       "      load_libs(js_urls, function() {\n",
       "        console.log(\"Bokeh: BokehJS plotting callback run at\", now());\n",
       "        run_inline_js();\n",
       "      });\n",
       "    }\n",
       "  }(this));\n",
       "</script>"
      ]
     },
     "metadata": {},
     "output_type": "display_data"
    }
   ],
   "source": [
    "show(plot)"
   ]
  },
  {
   "cell_type": "markdown",
   "metadata": {},
   "source": [
    "### Build the axes\n",
    "\n",
    "Next we can make some stylistic modifications to the plot axes (e.g. by specifying the text font, size, and color, and by adding labels), to make the plot look more like the one in Hans Rosling's video."
   ]
  },
  {
   "cell_type": "code",
   "execution_count": null,
   "metadata": {
    "collapsed": true
   },
   "outputs": [],
   "source": [
    "AXIS_FORMATS = dict(\n",
    "    minor_tick_in=None,\n",
    "    minor_tick_out=None,\n",
    "    major_tick_in=None,\n",
    "    major_label_text_font_size=\"10pt\",\n",
    "    major_label_text_font_style=\"normal\",\n",
    "    axis_label_text_font_size=\"10pt\",\n",
    "\n",
    "    axis_line_color='#AAAAAA',\n",
    "    major_tick_line_color='#AAAAAA',\n",
    "    major_label_text_color='#666666',\n",
    "\n",
    "    major_tick_line_cap=\"round\",\n",
    "    axis_line_cap=\"round\",\n",
    "    axis_line_width=1,\n",
    "    major_tick_line_width=1,\n",
    ")\n",
    "\n",
    "xaxis = LinearAxis(ticker=SingleIntervalTicker(interval=1), axis_label=\"Children per woman (total fertility)\", **AXIS_FORMATS)\n",
    "yaxis = LinearAxis(ticker=SingleIntervalTicker(interval=20), axis_label=\"Life expectancy at birth (years)\", **AXIS_FORMATS)   \n",
    "plot.add_layout(xaxis, 'below')\n",
    "plot.add_layout(yaxis, 'left')"
   ]
  },
  {
   "cell_type": "markdown",
   "metadata": {},
   "source": [
    "What do you expect to see when we call `show()` on the plot that we have created so far? Experiment with running the below cell, modifying some of the parameters above, and then re-running the cell below:"
   ]
  },
  {
   "cell_type": "code",
   "execution_count": null,
   "metadata": {
    "collapsed": true
   },
   "outputs": [],
   "source": [
    "show(plot)"
   ]
  },
  {
   "cell_type": "markdown",
   "metadata": {},
   "source": [
    "### Add the background year text\n",
    "\n",
    "One of the features of Rosling's animation is that the year appears as the text background of the plot. We will add this feature to our plot first so it will be layered below all the other glyphs (will will be incrementally added, layer by layer, on top of each other until we are finished)."
   ]
  },
  {
   "cell_type": "code",
   "execution_count": null,
   "metadata": {
    "collapsed": true
   },
   "outputs": [],
   "source": [
    "text_source = ColumnDataSource({'year': ['%s' % years[0]]})\n",
    "text = Text(x=2, y=35, text='year', text_font_size='150pt', text_color='#EEEEEE')\n",
    "plot.add_glyph(text_source, text)"
   ]
  },
  {
   "cell_type": "markdown",
   "metadata": {},
   "source": [
    "Test out different versions of the background text and see how it changes the plot:"
   ]
  },
  {
   "cell_type": "code",
   "execution_count": null,
   "metadata": {
    "collapsed": true
   },
   "outputs": [],
   "source": [
    "show(plot)"
   ]
  },
  {
   "cell_type": "markdown",
   "metadata": {},
   "source": [
    "### Add the bubbles and hover\n",
    "Next we will add the bubbles using Bokeh's [`Circle`](http://bokeh.pydata.org/en/latest/docs/reference/plotting.html#bokeh.plotting.figure.Figure.circle) glyph. We start from the first year of data, which is our source that drives the circles (the other sources will be used later).    "
   ]
  },
  {
   "cell_type": "code",
   "execution_count": null,
   "metadata": {
    "collapsed": true
   },
   "outputs": [],
   "source": [
    "# Add the circle\n",
    "renderer_source = sources['_%s' % years[0]]\n",
    "circle_glyph = Circle(\n",
    "    x='fertility', y='life', size='population',\n",
    "    fill_color='region_color', fill_alpha=0.8, \n",
    "    line_color='#7c7e71', line_width=0.5, line_alpha=0.5)\n",
    "\n",
    "circle_renderer = plot.add_glyph(renderer_source, circle_glyph)"
   ]
  },
  {
   "cell_type": "markdown",
   "metadata": {},
   "source": [
    "In the above, `plot.add_glyph` returns the renderer, which we can then pass to the `HoverTool` so that hover only happens for the bubbles on the page and not other glyph elements:"
   ]
  },
  {
   "cell_type": "code",
   "execution_count": null,
   "metadata": {
    "collapsed": true
   },
   "outputs": [],
   "source": [
    "# Add the hover (only against the circle and not other plot elements)\n",
    "tooltips = \"@index\"\n",
    "plot.add_tools(HoverTool(tooltips=tooltips, renderers=[circle_renderer]))"
   ]
  },
  {
   "cell_type": "markdown",
   "metadata": {},
   "source": [
    "Test out different parameters for the `Circle` glyph and see how it changes the plot:"
   ]
  },
  {
   "cell_type": "code",
   "execution_count": null,
   "metadata": {
    "collapsed": true
   },
   "outputs": [],
   "source": [
    "show(plot)"
   ]
  },
  {
   "cell_type": "markdown",
   "metadata": {},
   "source": [
    "### Add the legend\n",
    "\n",
    "Next we will manually build a legend for our plot by adding circles and texts to the upper-righthand portion:"
   ]
  },
  {
   "cell_type": "code",
   "execution_count": null,
   "metadata": {
    "collapsed": true
   },
   "outputs": [],
   "source": [
    "text_x = 7\n",
    "text_y = 95\n",
    "for i, region in enumerate(regions):\n",
    "    plot.add_glyph(Text(x=text_x, y=text_y, text=[region], text_font_size='10pt', text_color='#666666'))\n",
    "    plot.add_glyph(Circle(x=text_x - 0.1, y=text_y + 2, fill_color=Spectral6[i], size=10, line_color=None, fill_alpha=0.8))\n",
    "    text_y = text_y - 5"
   ]
  },
  {
   "cell_type": "markdown",
   "metadata": {},
   "source": [
    "Experiment with different parameters, and test it out by running the below cell:"
   ]
  },
  {
   "cell_type": "code",
   "execution_count": null,
   "metadata": {
    "collapsed": true
   },
   "outputs": [],
   "source": [
    "show(plot)"
   ]
  },
  {
   "cell_type": "markdown",
   "metadata": {},
   "source": [
    "### Add the slider and callback\n",
    "Next we add the slider widget and the JavaScript callback code, which changes the data of the `renderer_source` (powering the bubbles / circles) and the data of the `text_source` (powering our background text). After we've `set()` the data we need to `trigger()` a change. `slider`, `renderer_source`, `text_source` are all available because we add them as args to `Callback`.    \n",
    "\n",
    "It is the combination of `sources = %s % (js_source_array)` in the JavaScript and `Callback(args=sources...)` that provides the ability to look-up, by year, the JavaScript version of our Python-made `ColumnDataSource`."
   ]
  },
  {
   "cell_type": "code",
   "execution_count": null,
   "metadata": {
    "collapsed": true
   },
   "outputs": [],
   "source": [
    "# Add the slider\n",
    "code = \"\"\"\n",
    "    var year = slider.get('value'),\n",
    "        sources = %s,\n",
    "        new_source_data = sources[year].get('data');\n",
    "    renderer_source.set('data', new_source_data);\n",
    "    text_source.set('data', {'year': [String(year)]});\n",
    "\"\"\" % js_source_array\n",
    "\n",
    "callback = CustomJS(args=sources, code=code)\n",
    "slider = Slider(start=years[0], end=years[-1], value=1, step=1, title=\"Year\", callback=callback)\n",
    "callback.args[\"renderer_source\"] = renderer_source\n",
    "callback.args[\"slider\"] = slider\n",
    "callback.args[\"text_source\"] = text_source"
   ]
  },
  {
   "cell_type": "markdown",
   "metadata": {},
   "source": [
    "Check out what our slider looks like by itself:"
   ]
  },
  {
   "cell_type": "code",
   "execution_count": null,
   "metadata": {
    "collapsed": true
   },
   "outputs": [],
   "source": [
    "show(widgetbox(slider))"
   ]
  },
  {
   "cell_type": "markdown",
   "metadata": {},
   "source": [
    "### Putting all the pieces together\n",
    "\n",
    "Last but not least, we put the chart and the slider together in a layout and display it inline in the notebook."
   ]
  },
  {
   "cell_type": "code",
   "execution_count": null,
   "metadata": {
    "collapsed": true
   },
   "outputs": [],
   "source": [
    "show(layout([[plot], [slider]], sizing_mode='scale_width'))"
   ]
  },
  {
   "cell_type": "markdown",
   "metadata": {},
   "source": [
    "Nice work! \n",
    "\n",
    "Next try integrating some of the widgets in your own plots. \n",
    "\n",
    "For more on Bokeh see the [User Guide](http://bokeh.pydata.org/en/latest/docs/user_guide.html#userguide), check out examples from the [Gallery](http://bokeh.pydata.org/en/latest/docs/gallery.html#gallery), and learn more about Bokeh's API in the [Reference Guide](http://bokeh.pydata.org/en/latest/docs/reference.html#refguide)."
   ]
  }
 ],
 "metadata": {
  "kernelspec": {
   "display_name": "Python 3",
   "language": "python",
   "name": "python3"
  },
  "language_info": {
   "codemirror_mode": {
    "name": "ipython",
    "version": 3
   },
   "file_extension": ".py",
   "mimetype": "text/x-python",
   "name": "python",
   "nbconvert_exporter": "python",
   "pygments_lexer": "ipython3",
   "version": "3.6.1"
  }
 },
 "nbformat": 4,
 "nbformat_minor": 1
}
